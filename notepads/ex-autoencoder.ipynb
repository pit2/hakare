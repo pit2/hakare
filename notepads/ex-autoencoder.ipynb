{
 "cells": [
  {
   "cell_type": "code",
   "execution_count": 10,
   "metadata": {},
   "outputs": [],
   "source": [
    "from PIL import Image\n",
    "import sys\n",
    "sys.path.insert(0, \"/Users/martin/Programmierung/Python/Digethic/hakare/src\")\n",
    "import autoencoder\n",
    "import convert_img\n",
    "import data\n",
    "import torch\n",
    "from torchsummary import summary\n",
    "import matplotlib.pyplot as plt\n",
    "from os import path\n",
    "from torchvision.utils import save_image\n",
    "\n",
    "DEVICE = torch.device('cuda:0' if torch.cuda.is_available() else 'cpu')\n"
   ]
  },
  {
   "cell_type": "code",
   "execution_count": 2,
   "metadata": {},
   "outputs": [
    {
     "name": "stdout",
     "output_type": "stream",
     "text": [
      "----------------------------------------------------------------\n",
      "        Layer (type)               Output Shape         Param #\n",
      "================================================================\n",
      "            Conv2d-1           [-1, 32, 64, 64]             320\n",
      "              ReLU-2           [-1, 32, 64, 64]               0\n",
      "         MaxPool2d-3           [-1, 32, 32, 32]               0\n",
      "            Conv2d-4           [-1, 64, 16, 16]          18,496\n",
      "              ReLU-5           [-1, 64, 16, 16]               0\n",
      "         MaxPool2d-6             [-1, 64, 8, 8]               0\n",
      "            Conv2d-7            [-1, 128, 4, 4]          73,856\n",
      "              ReLU-8            [-1, 128, 4, 4]               0\n",
      "         MaxPool2d-9            [-1, 128, 2, 2]               0\n",
      "           Linear-10                   [-1, 25]          12,825\n",
      "             ReLU-11                   [-1, 25]               0\n",
      "           Linear-12                  [-1, 512]          13,312\n",
      "             ReLU-13                  [-1, 512]               0\n",
      "  ConvTranspose2d-14             [-1, 64, 4, 4]          73,792\n",
      "             ReLU-15             [-1, 64, 4, 4]               0\n",
      "         Upsample-16             [-1, 64, 8, 8]               0\n",
      "  ConvTranspose2d-17           [-1, 32, 16, 16]          18,464\n",
      "             ReLU-18           [-1, 32, 16, 16]               0\n",
      "         Upsample-19           [-1, 32, 32, 32]               0\n",
      "  ConvTranspose2d-20            [-1, 1, 64, 64]             289\n",
      "          Sigmoid-21            [-1, 1, 64, 64]               0\n",
      "         Upsample-22          [-1, 1, 128, 128]               0\n",
      "================================================================\n",
      "Total params: 211,354\n",
      "Trainable params: 211,354\n",
      "Non-trainable params: 0\n",
      "----------------------------------------------------------------\n",
      "Input size (MB): 0.06\n",
      "Forward/backward pass size (MB): 3.18\n",
      "Params size (MB): 0.81\n",
      "Estimated Total Size (MB): 4.05\n",
      "----------------------------------------------------------------\n"
     ]
    }
   ],
   "source": [
    "dataset = data.Characters(data.PATH_TO_DATA_SHORT, 128, 128, 1)\n",
    "train, valid, test = data.split(dataset, batch_size=32)\n",
    "model = autoencoder.AutoEncoder().to(DEVICE)\n",
    "summary(model, (1, 128, 128))\n"
   ]
  },
  {
   "cell_type": "code",
   "execution_count": 3,
   "metadata": {},
   "outputs": [
    {
     "name": "stdout",
     "output_type": "stream",
     "text": [
      "Error in epoch 0: 0.009697303885505312\n",
      "Error in epoch 1: 0.006045628612535814\n",
      "Error in epoch 2: 0.006045541459960597\n",
      "Error in epoch 3: 0.006045690190697473\n",
      "Error in epoch 4: 0.0060457766632593815\n",
      "Error in epoch 5: 0.006045299375222789\n",
      "Error in epoch 6: 0.006045557100266692\n",
      "Error in epoch 7: 0.006045917632974802\n",
      "Error in epoch 8: 0.0060453271448967\n",
      "Error in epoch 9: 0.006045906035791314\n"
     ]
    }
   ],
   "source": [
    "model, train_losses, valid_losses = autoencoder.train(model, train, valid, 10)\n"
   ]
  },
  {
   "cell_type": "code",
   "execution_count": 4,
   "metadata": {},
   "outputs": [
    {
     "data": {
      "text/plain": [
       "[<matplotlib.lines.Line2D at 0x11a4353a0>]"
      ]
     },
     "execution_count": 4,
     "metadata": {},
     "output_type": "execute_result"
    },
    {
     "data": {
      "image/png": "[encoded data removed]",
      "text/plain": [
       "<Figure size 432x288 with 1 Axes>"
      ]
     },
     "metadata": {
      "needs_background": "light"
     },
     "output_type": "display_data"
    }
   ],
   "source": [
    "plt.plot(valid_losses)\n"
   ]
  },
  {
   "cell_type": "code",
   "execution_count": 5,
   "metadata": {},
   "outputs": [],
   "source": [
    "model = torch.load(path.join(\"..\", \"data\", \"models\", \"model.pt\"))\n",
    "test_loss = autoencoder.eval_model(model, test, torch.nn.MSELoss(), [])\n"
   ]
  },
  {
   "cell_type": "code",
   "execution_count": 6,
   "metadata": {},
   "outputs": [
    {
     "data": {
      "text/plain": [
       "[0.005803926860129363]"
      ]
     },
     "execution_count": 6,
     "metadata": {},
     "output_type": "execute_result"
    }
   ],
   "source": [
    "test_loss"
   ]
  },
  {
   "cell_type": "code",
   "execution_count": 7,
   "metadata": {},
   "outputs": [
    {
     "name": "stdout",
     "output_type": "stream",
     "text": [
      "tensor([[[ 0.0000,  0.0000,  0.0000,  ...,  0.0000,  0.0000,  0.0000],\n",
      "         [ 0.0000,  0.0000,  0.0000,  ...,  0.0000,  0.0000,  0.0000],\n",
      "         [-0.0627, -0.0627,  0.0000,  ...,  0.0000,  0.0000,  0.0000],\n",
      "         ...,\n",
      "         [ 0.0000,  0.0000,  0.0000,  ...,  0.0000,  0.0000,  0.0000],\n",
      "         [ 0.0000,  0.0000,  0.0000,  ...,  0.0000,  0.0000,  0.0000],\n",
      "         [ 0.0000,  0.0000,  0.0000,  ...,  0.0000,  0.0000,  0.0000]]],\n",
      "       grad_fn=<SubBackward0>)\n"
     ]
    }
   ],
   "source": [
    "img = autoencoder.reconstruct(\n",
    "    \"/Volumes/MACBACKUP/DataSets/images/ETL9G/0x4e5d/024934.png\", model)\n"
   ]
  },
  {
   "cell_type": "code",
   "execution_count": 8,
   "metadata": {},
   "outputs": [],
   "source": [
    "img_in = Image.open(\"/Volumes/MACBACKUP/DataSets/images/ETL9G/0x4e5d/024934.png\")\n",
    "img_in = img_in.resize((128, 128))\n",
    "img_in.show()\n"
   ]
  },
  {
   "cell_type": "code",
   "execution_count": 8,
   "metadata": {},
   "outputs": [],
   "source": [
    "img.show()"
   ]
  },
  {
   "cell_type": "code",
   "execution_count": 8,
   "metadata": {},
   "outputs": [],
   "source": [
    "enc = autoencoder.encode(\"/Volumes/MACBACKUP/DataSets/images/ETL9G/0x4e5d/024934.png\", model)\n"
   ]
  },
  {
   "cell_type": "code",
   "execution_count": 11,
   "metadata": {},
   "outputs": [],
   "source": [
    "enc = enc.view(5,5)\n",
    "save_image(enc, path.join(\"..\", \"data\", \"tmp\", \"enc.png\"))\n"
   ]
  },
  {
   "cell_type": "code",
   "execution_count": null,
   "metadata": {},
   "outputs": [],
   "source": []
  }
 ],
 "metadata": {
  "interpreter": {
   "hash": "a43191e447e5e464f13ac9cdf1f32da6add6dd5715f40401e4cd76a5219672bb"
  },
  "kernelspec": {
   "display_name": "Python 3.9.7 ('.venv': venv)",
   "language": "python",
   "name": "python3"
  },
  "language_info": {
   "codemirror_mode": {
    "name": "ipython",
    "version": 3
   },
   "file_extension": ".py",
   "mimetype": "text/x-python",
   "name": "python",
   "nbconvert_exporter": "python",
   "pygments_lexer": "ipython3",
   "version": "3.9.7"
  },
  "orig_nbformat": 4
 },
 "nbformat": 4,
 "nbformat_minor": 2
}
